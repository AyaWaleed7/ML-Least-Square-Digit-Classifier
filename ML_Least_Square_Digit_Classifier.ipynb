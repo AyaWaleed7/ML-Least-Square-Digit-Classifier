{
 "cells": [
  {
   "cell_type": "code",
   "execution_count": 2,
   "metadata": {
    "scrolled": true
   },
   "outputs": [],
   "source": [
    "import numpy as np \n",
    "import matplotlib.pyplot as plt"
   ]
  },
  {
   "cell_type": "code",
   "execution_count": 3,
   "metadata": {
    "scrolled": true
   },
   "outputs": [
    {
     "name": "stdout",
     "output_type": "stream",
     "text": [
      "[[0 0 0 ... 0 0 1]\n",
      " [0 0 0 ... 0 0 1]\n",
      " [0 0 0 ... 0 0 1]\n",
      " ...\n",
      " [0 0 0 ... 0 0 1]\n",
      " [0 0 0 ... 0 0 1]\n",
      " [0 0 0 ... 0 0 1]]\n",
      "(2400, 10)\n"
     ]
    }
   ],
   "source": [
    "#-----------------Create X----------------------\n",
    "x = np.full((2400,785),1)\n",
    "for i in range(x.shape[0]):\n",
    "    image_index = str(i+1)\n",
    "    url = \"./Train/\"+image_index+\".jpg\"\n",
    "    image = plt.imread(url)\n",
    "    x[i] = np.append(image.flatten(),[1])\n",
    "print(x.shape)\n",
    "#-----------------Create T----------------------\n",
    "t = np.full((2400,10),0)\n",
    "for z in range(t.shape[1]):\n",
    "    rangez = (z+1)*240\n",
    "    for y in range(t.shape[0]):\n",
    "        if(y>=rangez-240 and y<rangez):\n",
    "            t[y][z]=1\n",
    "        else:\n",
    "            t[y][z]=-1\n",
    "print(t.shape)"
   ]
  },
  {
   "cell_type": "code",
   "execution_count": 17,
   "metadata": {
    "scrolled": true
   },
   "outputs": [
    {
     "name": "stdout",
     "output_type": "stream",
     "text": [
      "(785, 10)\n"
     ]
    }
   ],
   "source": [
    "#--------------------Calculate W=([Xt.X]-1)*Xt*t-------------------------------\n",
    "x_transpose = np.transpose(x)\n",
    "mul_x_t = np.matmul(x_transpose, x)\n",
    "inverse_mul_x_t = np.linalg.pinv(mul_x_t)\n",
    "mult_inverse_t = np.matmul(inverse_mul_x_t, x_transpose)\n",
    "w = np.matmul(mult_inverse_t, t)\n",
    "print(w.shape)"
   ]
  },
  {
   "cell_type": "code",
   "execution_count": 18,
   "metadata": {
    "scrolled": true
   },
   "outputs": [
    {
     "name": "stdout",
     "output_type": "stream",
     "text": [
      "(200, 785)\n"
     ]
    }
   ],
   "source": [
    "#--------------------Create X_Test-------------------------------\n",
    "x_test = np.full((200,785),1)\n",
    "for i in range(x_test.shape[0]):\n",
    "    image_index = str(i+1)\n",
    "    url = \"D:/GUC/Intranet/Faculties (Semester 9)/CSEN 1022 (Machine Learning)/Assignment/Test/\"+image_index+\".jpg\"\n",
    "    image = plt.imread(url)\n",
    "    x_test[i] = np.append(image.flatten(),[1])\n",
    "print(x_test.shape)"
   ]
  },
  {
   "cell_type": "code",
   "execution_count": 21,
   "metadata": {
    "scrolled": true
   },
   "outputs": [
    {
     "name": "stdout",
     "output_type": "stream",
     "text": [
      "[-0.93342356  0.75929292 -0.88234531 -1.02283716 -1.22890301 -0.89693455\n",
      " -1.14657751 -1.01397434 -0.51450094 -1.11979654]\n"
     ]
    }
   ],
   "source": [
    "#------------------Calculate y(x)=W.X+W0----------------\n",
    "y = np.dot(x_test, w)\n",
    "print(y[21])"
   ]
  },
  {
   "cell_type": "code",
   "execution_count": 10,
   "metadata": {
    "scrolled": true
   },
   "outputs": [],
   "source": [
    "def getmaxindex(array):\n",
    "    max_index=0\n",
    "    for i in range(array.size):\n",
    "        if(array[max_index]<array[i]):\n",
    "            max_index = i        \n",
    "    return max_index"
   ]
  },
  {
   "cell_type": "code",
   "execution_count": 20,
   "metadata": {
    "scrolled": false
   },
   "outputs": [
    {
     "name": "stdout",
     "output_type": "stream",
     "text": [
      "[0]\n"
     ]
    }
   ],
   "source": [
    "#------------------Create FinalSolution each row is an image and the column is the class it belongs to ---------------\n",
    "final_sol = np.full((200,1),-1)\n",
    "for i in range(y.shape[0]):\n",
    "    final_sol[i][0] = getmaxindex(y[i])\n",
    "print(final_sol[0])"
   ]
  },
  {
   "cell_type": "code",
   "execution_count": 12,
   "metadata": {
    "scrolled": true
   },
   "outputs": [
    {
     "name": "stdout",
     "output_type": "stream",
     "text": [
      "[[19  0  0  0  0  0  1  0  0  0]\n",
      " [ 0 20  0  0  0  0  0  0  0  0]\n",
      " [ 1  3 11  2  2  1  0  0  0  0]\n",
      " [ 0  0  0 17  0  1  0  0  2  0]\n",
      " [ 0  0  0  0 17  1  0  1  0  1]\n",
      " [ 0  0  0  1  0 14  1  0  2  2]\n",
      " [ 0  0  0  0  0  0 20  0  0  0]\n",
      " [ 0  0  1  1  0  0  0 15  0  3]\n",
      " [ 0  0  1  0  0  3  0  0 15  1]\n",
      " [ 1  0  0  1  1  1  0  4  0 12]]\n"
     ]
    }
   ],
   "source": [
    "#----------------Create Confusion Matrix-------------------------------------\n",
    "confusion_matrix =np.full((10,10),0)\n",
    "for i in range(final_sol.shape[0]):\n",
    "    confusion_matrix[int(i/20)][final_sol[i][0]] = confusion_matrix[int(i/20)][final_sol[i][0]]+1\n",
    "print(confusion_matrix)"
   ]
  },
  {
   "cell_type": "code",
   "execution_count": 19,
   "metadata": {
    "scrolled": true
   },
   "outputs": [
    {
     "data": {
      "text/plain": [
       "<matplotlib.image.AxesImage at 0x18f5dff2128>"
      ]
     },
     "execution_count": 19,
     "metadata": {},
     "output_type": "execute_result"
    },
    {
     "data": {
      "image/png": "[encoded data removed]",
      "text/plain": [
       "<Figure size 432x288 with 1 Axes>"
      ]
     },
     "metadata": {
      "needs_background": "light"
     },
     "output_type": "display_data"
    }
   ],
   "source": [
    "plt.imshow(confusion_matrix)"
   ]
  },
  {
   "cell_type": "code",
   "execution_count": 20,
   "metadata": {},
   "outputs": [],
   "source": [
    "plt.imsave('Confusion.jpg', confusion_matrix)"
   ]
  },
  {
   "cell_type": "code",
   "execution_count": null,
   "metadata": {},
   "outputs": [],
   "source": []
  }
 ],
 "metadata": {
  "kernelspec": {
   "display_name": "Python 3",
   "language": "python",
   "name": "python3"
  },
  "language_info": {
   "codemirror_mode": {
    "name": "ipython",
    "version": 3
   },
   "file_extension": ".py",
   "mimetype": "text/x-python",
   "name": "python",
   "nbconvert_exporter": "python",
   "pygments_lexer": "ipython3",
   "version": "3.7.3"
  }
 },
 "nbformat": 4,
 "nbformat_minor": 2
}
